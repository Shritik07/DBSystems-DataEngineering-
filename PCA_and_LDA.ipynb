{
 "cells": [
  {
   "cell_type": "markdown",
   "metadata": {
    "id": "QjSr3atAR_Ja"
   },
   "source": [
    "**1.Importing Necessary Libraries**\n",
    "\n",
    "\n",
    "\n"
   ]
  },
  {
   "cell_type": "code",
   "execution_count": 3,
   "metadata": {
    "id": "pPItWVMER_0V"
   },
   "outputs": [],
   "source": [
    "import pandas as pd\n",
    "import numpy as np\n",
    "import matplotlib.pyplot as plt\n",
    "import seaborn as sns\n",
    "from sklearn.discriminant_analysis import LinearDiscriminantAnalysis as LDA\n",
    "from sklearn.model_selection import train_test_split\n",
    "from sklearn import preprocessing\n",
    "\n",
    "# import decision tree classifier and random forest classifier from sklearn\n",
    "from sklearn.tree import DecisionTreeClassifier\n",
    "from sklearn.metrics import accuracy_score, roc_auc_score\n",
    "from sklearn.ensemble import RandomForestClassifier"
   ]
  },
  {
   "cell_type": "code",
   "execution_count": 4,
   "metadata": {
    "id": "QOCdr-brG1XN"
   },
   "outputs": [],
   "source": [
    "df = pd.read_csv(r\"C:\\Users\\Admin\\Desktop\\Required Files(To be shared with the learners)\\sales_data_sample.csv\",encoding = 'latin')"
   ]
  },
  {
   "cell_type": "markdown",
   "metadata": {
    "id": "bcSyzXZZSa_L"
   },
   "source": [
    "**2.Displaying a sample of five rows of the data frame**"
   ]
  },
  {
   "cell_type": "code",
   "execution_count": 5,
   "metadata": {
    "colab": {
     "base_uri": "https://localhost:8080/",
     "height": 404
    },
    "id": "AHcuVogCHgez",
    "outputId": "1a826792-72cb-40b0-8f0d-c7b6515fce89"
   },
   "outputs": [
    {
     "data": {
      "text/html": [
       "<div>\n",
       "<style scoped>\n",
       "    .dataframe tbody tr th:only-of-type {\n",
       "        vertical-align: middle;\n",
       "    }\n",
       "\n",
       "    .dataframe tbody tr th {\n",
       "        vertical-align: top;\n",
       "    }\n",
       "\n",
       "    .dataframe thead th {\n",
       "        text-align: right;\n",
       "    }\n",
       "</style>\n",
       "<table border=\"1\" class=\"dataframe\">\n",
       "  <thead>\n",
       "    <tr style=\"text-align: right;\">\n",
       "      <th></th>\n",
       "      <th>ORDERNUMBER</th>\n",
       "      <th>QUANTITYORDERED</th>\n",
       "      <th>PRICEEACH</th>\n",
       "      <th>ORDERLINENUMBER</th>\n",
       "      <th>SALES</th>\n",
       "      <th>ORDERDATE</th>\n",
       "      <th>STATUS</th>\n",
       "      <th>QTR_ID</th>\n",
       "      <th>MONTH_ID</th>\n",
       "      <th>YEAR_ID</th>\n",
       "      <th>...</th>\n",
       "      <th>ADDRESSLINE1</th>\n",
       "      <th>ADDRESSLINE2</th>\n",
       "      <th>CITY</th>\n",
       "      <th>STATE</th>\n",
       "      <th>POSTALCODE</th>\n",
       "      <th>COUNTRY</th>\n",
       "      <th>TERRITORY</th>\n",
       "      <th>CONTACTLASTNAME</th>\n",
       "      <th>CONTACTFIRSTNAME</th>\n",
       "      <th>DEALSIZE</th>\n",
       "    </tr>\n",
       "  </thead>\n",
       "  <tbody>\n",
       "    <tr>\n",
       "      <th>0</th>\n",
       "      <td>10107</td>\n",
       "      <td>30</td>\n",
       "      <td>95.70</td>\n",
       "      <td>2</td>\n",
       "      <td>2871.00</td>\n",
       "      <td>2/24/2003 0:00</td>\n",
       "      <td>Shipped</td>\n",
       "      <td>1</td>\n",
       "      <td>2</td>\n",
       "      <td>2003</td>\n",
       "      <td>...</td>\n",
       "      <td>897 Long Airport Avenue</td>\n",
       "      <td>NaN</td>\n",
       "      <td>NYC</td>\n",
       "      <td>NY</td>\n",
       "      <td>10022</td>\n",
       "      <td>USA</td>\n",
       "      <td>NaN</td>\n",
       "      <td>Yu</td>\n",
       "      <td>Kwai</td>\n",
       "      <td>Small</td>\n",
       "    </tr>\n",
       "    <tr>\n",
       "      <th>1</th>\n",
       "      <td>10121</td>\n",
       "      <td>34</td>\n",
       "      <td>81.35</td>\n",
       "      <td>5</td>\n",
       "      <td>2765.90</td>\n",
       "      <td>5/7/2003 0:00</td>\n",
       "      <td>Shipped</td>\n",
       "      <td>2</td>\n",
       "      <td>5</td>\n",
       "      <td>2003</td>\n",
       "      <td>...</td>\n",
       "      <td>59 rue de l'Abbaye</td>\n",
       "      <td>NaN</td>\n",
       "      <td>Reims</td>\n",
       "      <td>NaN</td>\n",
       "      <td>51100</td>\n",
       "      <td>France</td>\n",
       "      <td>EMEA</td>\n",
       "      <td>Henriot</td>\n",
       "      <td>Paul</td>\n",
       "      <td>Small</td>\n",
       "    </tr>\n",
       "    <tr>\n",
       "      <th>2</th>\n",
       "      <td>10134</td>\n",
       "      <td>41</td>\n",
       "      <td>94.74</td>\n",
       "      <td>2</td>\n",
       "      <td>3884.34</td>\n",
       "      <td>7/1/2003 0:00</td>\n",
       "      <td>Shipped</td>\n",
       "      <td>3</td>\n",
       "      <td>7</td>\n",
       "      <td>2003</td>\n",
       "      <td>...</td>\n",
       "      <td>27 rue du Colonel Pierre Avia</td>\n",
       "      <td>NaN</td>\n",
       "      <td>Paris</td>\n",
       "      <td>NaN</td>\n",
       "      <td>75508</td>\n",
       "      <td>France</td>\n",
       "      <td>EMEA</td>\n",
       "      <td>Da Cunha</td>\n",
       "      <td>Daniel</td>\n",
       "      <td>Medium</td>\n",
       "    </tr>\n",
       "    <tr>\n",
       "      <th>3</th>\n",
       "      <td>10145</td>\n",
       "      <td>45</td>\n",
       "      <td>83.26</td>\n",
       "      <td>6</td>\n",
       "      <td>3746.70</td>\n",
       "      <td>8/25/2003 0:00</td>\n",
       "      <td>Shipped</td>\n",
       "      <td>3</td>\n",
       "      <td>8</td>\n",
       "      <td>2003</td>\n",
       "      <td>...</td>\n",
       "      <td>78934 Hillside Dr.</td>\n",
       "      <td>NaN</td>\n",
       "      <td>Pasadena</td>\n",
       "      <td>CA</td>\n",
       "      <td>90003</td>\n",
       "      <td>USA</td>\n",
       "      <td>NaN</td>\n",
       "      <td>Young</td>\n",
       "      <td>Julie</td>\n",
       "      <td>Medium</td>\n",
       "    </tr>\n",
       "    <tr>\n",
       "      <th>4</th>\n",
       "      <td>10159</td>\n",
       "      <td>49</td>\n",
       "      <td>100.00</td>\n",
       "      <td>14</td>\n",
       "      <td>5205.27</td>\n",
       "      <td>10/10/2003 0:00</td>\n",
       "      <td>Shipped</td>\n",
       "      <td>4</td>\n",
       "      <td>10</td>\n",
       "      <td>2003</td>\n",
       "      <td>...</td>\n",
       "      <td>7734 Strong St.</td>\n",
       "      <td>NaN</td>\n",
       "      <td>San Francisco</td>\n",
       "      <td>CA</td>\n",
       "      <td>NaN</td>\n",
       "      <td>USA</td>\n",
       "      <td>NaN</td>\n",
       "      <td>Brown</td>\n",
       "      <td>Julie</td>\n",
       "      <td>Medium</td>\n",
       "    </tr>\n",
       "  </tbody>\n",
       "</table>\n",
       "<p>5 rows × 25 columns</p>\n",
       "</div>"
      ],
      "text/plain": [
       "   ORDERNUMBER  QUANTITYORDERED  PRICEEACH  ORDERLINENUMBER    SALES  \\\n",
       "0        10107               30      95.70                2  2871.00   \n",
       "1        10121               34      81.35                5  2765.90   \n",
       "2        10134               41      94.74                2  3884.34   \n",
       "3        10145               45      83.26                6  3746.70   \n",
       "4        10159               49     100.00               14  5205.27   \n",
       "\n",
       "         ORDERDATE   STATUS  QTR_ID  MONTH_ID  YEAR_ID  ...  \\\n",
       "0   2/24/2003 0:00  Shipped       1         2     2003  ...   \n",
       "1    5/7/2003 0:00  Shipped       2         5     2003  ...   \n",
       "2    7/1/2003 0:00  Shipped       3         7     2003  ...   \n",
       "3   8/25/2003 0:00  Shipped       3         8     2003  ...   \n",
       "4  10/10/2003 0:00  Shipped       4        10     2003  ...   \n",
       "\n",
       "                    ADDRESSLINE1  ADDRESSLINE2           CITY STATE  \\\n",
       "0        897 Long Airport Avenue           NaN            NYC    NY   \n",
       "1             59 rue de l'Abbaye           NaN          Reims   NaN   \n",
       "2  27 rue du Colonel Pierre Avia           NaN          Paris   NaN   \n",
       "3             78934 Hillside Dr.           NaN       Pasadena    CA   \n",
       "4                7734 Strong St.           NaN  San Francisco    CA   \n",
       "\n",
       "  POSTALCODE COUNTRY TERRITORY CONTACTLASTNAME CONTACTFIRSTNAME DEALSIZE  \n",
       "0      10022     USA       NaN              Yu             Kwai    Small  \n",
       "1      51100  France      EMEA         Henriot             Paul    Small  \n",
       "2      75508  France      EMEA        Da Cunha           Daniel   Medium  \n",
       "3      90003     USA       NaN           Young            Julie   Medium  \n",
       "4        NaN     USA       NaN           Brown            Julie   Medium  \n",
       "\n",
       "[5 rows x 25 columns]"
      ]
     },
     "execution_count": 5,
     "metadata": {},
     "output_type": "execute_result"
    }
   ],
   "source": [
    "df.head()"
   ]
  },
  {
   "cell_type": "markdown",
   "metadata": {
    "id": "9Mz5HeueTE8C"
   },
   "source": [
    "**3.Checking shape of the data and general info about the data**"
   ]
  },
  {
   "cell_type": "code",
   "execution_count": 6,
   "metadata": {
    "colab": {
     "base_uri": "https://localhost:8080/"
    },
    "id": "6axg0vaKHsTi",
    "outputId": "1f77cd0c-a4d0-48da-a294-656756d851ab"
   },
   "outputs": [
    {
     "data": {
      "text/plain": [
       "(2823, 25)"
      ]
     },
     "execution_count": 6,
     "metadata": {},
     "output_type": "execute_result"
    }
   ],
   "source": [
    "df.shape"
   ]
  },
  {
   "cell_type": "code",
   "execution_count": 7,
   "metadata": {
    "colab": {
     "base_uri": "https://localhost:8080/"
    },
    "id": "qXj0_3YBHwED",
    "outputId": "15d5d598-c5f6-4f97-b86f-77e9d229f33d"
   },
   "outputs": [
    {
     "name": "stdout",
     "output_type": "stream",
     "text": [
      "<class 'pandas.core.frame.DataFrame'>\n",
      "RangeIndex: 2823 entries, 0 to 2822\n",
      "Data columns (total 25 columns):\n",
      " #   Column            Non-Null Count  Dtype  \n",
      "---  ------            --------------  -----  \n",
      " 0   ORDERNUMBER       2823 non-null   int64  \n",
      " 1   QUANTITYORDERED   2823 non-null   int64  \n",
      " 2   PRICEEACH         2823 non-null   float64\n",
      " 3   ORDERLINENUMBER   2823 non-null   int64  \n",
      " 4   SALES             2823 non-null   float64\n",
      " 5   ORDERDATE         2823 non-null   object \n",
      " 6   STATUS            2823 non-null   object \n",
      " 7   QTR_ID            2823 non-null   int64  \n",
      " 8   MONTH_ID          2823 non-null   int64  \n",
      " 9   YEAR_ID           2823 non-null   int64  \n",
      " 10  PRODUCTLINE       2823 non-null   object \n",
      " 11  MSRP              2823 non-null   int64  \n",
      " 12  PRODUCTCODE       2823 non-null   object \n",
      " 13  CUSTOMERNAME      2823 non-null   object \n",
      " 14  PHONE             2823 non-null   object \n",
      " 15  ADDRESSLINE1      2823 non-null   object \n",
      " 16  ADDRESSLINE2      302 non-null    object \n",
      " 17  CITY              2823 non-null   object \n",
      " 18  STATE             1337 non-null   object \n",
      " 19  POSTALCODE        2747 non-null   object \n",
      " 20  COUNTRY           2823 non-null   object \n",
      " 21  TERRITORY         1749 non-null   object \n",
      " 22  CONTACTLASTNAME   2823 non-null   object \n",
      " 23  CONTACTFIRSTNAME  2823 non-null   object \n",
      " 24  DEALSIZE          2823 non-null   object \n",
      "dtypes: float64(2), int64(7), object(16)\n",
      "memory usage: 551.5+ KB\n"
     ]
    }
   ],
   "source": [
    "df.info()"
   ]
  },
  {
   "cell_type": "code",
   "execution_count": 8,
   "metadata": {
    "colab": {
     "base_uri": "https://localhost:8080/",
     "height": 300
    },
    "id": "MIiMIttyRRq9",
    "outputId": "8820844a-e853-4160-b69d-1fc2f444090e"
   },
   "outputs": [
    {
     "data": {
      "text/html": [
       "<div>\n",
       "<style scoped>\n",
       "    .dataframe tbody tr th:only-of-type {\n",
       "        vertical-align: middle;\n",
       "    }\n",
       "\n",
       "    .dataframe tbody tr th {\n",
       "        vertical-align: top;\n",
       "    }\n",
       "\n",
       "    .dataframe thead th {\n",
       "        text-align: right;\n",
       "    }\n",
       "</style>\n",
       "<table border=\"1\" class=\"dataframe\">\n",
       "  <thead>\n",
       "    <tr style=\"text-align: right;\">\n",
       "      <th></th>\n",
       "      <th>ORDERNUMBER</th>\n",
       "      <th>QUANTITYORDERED</th>\n",
       "      <th>PRICEEACH</th>\n",
       "      <th>ORDERLINENUMBER</th>\n",
       "      <th>SALES</th>\n",
       "      <th>QTR_ID</th>\n",
       "      <th>MONTH_ID</th>\n",
       "      <th>YEAR_ID</th>\n",
       "      <th>MSRP</th>\n",
       "    </tr>\n",
       "  </thead>\n",
       "  <tbody>\n",
       "    <tr>\n",
       "      <th>count</th>\n",
       "      <td>2823.000000</td>\n",
       "      <td>2823.000000</td>\n",
       "      <td>2823.000000</td>\n",
       "      <td>2823.000000</td>\n",
       "      <td>2823.000000</td>\n",
       "      <td>2823.000000</td>\n",
       "      <td>2823.000000</td>\n",
       "      <td>2823.00000</td>\n",
       "      <td>2823.000000</td>\n",
       "    </tr>\n",
       "    <tr>\n",
       "      <th>mean</th>\n",
       "      <td>10258.725115</td>\n",
       "      <td>35.092809</td>\n",
       "      <td>83.658544</td>\n",
       "      <td>6.466171</td>\n",
       "      <td>3553.889072</td>\n",
       "      <td>2.717676</td>\n",
       "      <td>7.092455</td>\n",
       "      <td>2003.81509</td>\n",
       "      <td>100.715551</td>\n",
       "    </tr>\n",
       "    <tr>\n",
       "      <th>std</th>\n",
       "      <td>92.085478</td>\n",
       "      <td>9.741443</td>\n",
       "      <td>20.174277</td>\n",
       "      <td>4.225841</td>\n",
       "      <td>1841.865106</td>\n",
       "      <td>1.203878</td>\n",
       "      <td>3.656633</td>\n",
       "      <td>0.69967</td>\n",
       "      <td>40.187912</td>\n",
       "    </tr>\n",
       "    <tr>\n",
       "      <th>min</th>\n",
       "      <td>10100.000000</td>\n",
       "      <td>6.000000</td>\n",
       "      <td>26.880000</td>\n",
       "      <td>1.000000</td>\n",
       "      <td>482.130000</td>\n",
       "      <td>1.000000</td>\n",
       "      <td>1.000000</td>\n",
       "      <td>2003.00000</td>\n",
       "      <td>33.000000</td>\n",
       "    </tr>\n",
       "    <tr>\n",
       "      <th>25%</th>\n",
       "      <td>10180.000000</td>\n",
       "      <td>27.000000</td>\n",
       "      <td>68.860000</td>\n",
       "      <td>3.000000</td>\n",
       "      <td>2203.430000</td>\n",
       "      <td>2.000000</td>\n",
       "      <td>4.000000</td>\n",
       "      <td>2003.00000</td>\n",
       "      <td>68.000000</td>\n",
       "    </tr>\n",
       "    <tr>\n",
       "      <th>50%</th>\n",
       "      <td>10262.000000</td>\n",
       "      <td>35.000000</td>\n",
       "      <td>95.700000</td>\n",
       "      <td>6.000000</td>\n",
       "      <td>3184.800000</td>\n",
       "      <td>3.000000</td>\n",
       "      <td>8.000000</td>\n",
       "      <td>2004.00000</td>\n",
       "      <td>99.000000</td>\n",
       "    </tr>\n",
       "    <tr>\n",
       "      <th>75%</th>\n",
       "      <td>10333.500000</td>\n",
       "      <td>43.000000</td>\n",
       "      <td>100.000000</td>\n",
       "      <td>9.000000</td>\n",
       "      <td>4508.000000</td>\n",
       "      <td>4.000000</td>\n",
       "      <td>11.000000</td>\n",
       "      <td>2004.00000</td>\n",
       "      <td>124.000000</td>\n",
       "    </tr>\n",
       "    <tr>\n",
       "      <th>max</th>\n",
       "      <td>10425.000000</td>\n",
       "      <td>97.000000</td>\n",
       "      <td>100.000000</td>\n",
       "      <td>18.000000</td>\n",
       "      <td>14082.800000</td>\n",
       "      <td>4.000000</td>\n",
       "      <td>12.000000</td>\n",
       "      <td>2005.00000</td>\n",
       "      <td>214.000000</td>\n",
       "    </tr>\n",
       "  </tbody>\n",
       "</table>\n",
       "</div>"
      ],
      "text/plain": [
       "        ORDERNUMBER  QUANTITYORDERED    PRICEEACH  ORDERLINENUMBER  \\\n",
       "count   2823.000000      2823.000000  2823.000000      2823.000000   \n",
       "mean   10258.725115        35.092809    83.658544         6.466171   \n",
       "std       92.085478         9.741443    20.174277         4.225841   \n",
       "min    10100.000000         6.000000    26.880000         1.000000   \n",
       "25%    10180.000000        27.000000    68.860000         3.000000   \n",
       "50%    10262.000000        35.000000    95.700000         6.000000   \n",
       "75%    10333.500000        43.000000   100.000000         9.000000   \n",
       "max    10425.000000        97.000000   100.000000        18.000000   \n",
       "\n",
       "              SALES       QTR_ID     MONTH_ID     YEAR_ID         MSRP  \n",
       "count   2823.000000  2823.000000  2823.000000  2823.00000  2823.000000  \n",
       "mean    3553.889072     2.717676     7.092455  2003.81509   100.715551  \n",
       "std     1841.865106     1.203878     3.656633     0.69967    40.187912  \n",
       "min      482.130000     1.000000     1.000000  2003.00000    33.000000  \n",
       "25%     2203.430000     2.000000     4.000000  2003.00000    68.000000  \n",
       "50%     3184.800000     3.000000     8.000000  2004.00000    99.000000  \n",
       "75%     4508.000000     4.000000    11.000000  2004.00000   124.000000  \n",
       "max    14082.800000     4.000000    12.000000  2005.00000   214.000000  "
      ]
     },
     "execution_count": 8,
     "metadata": {},
     "output_type": "execute_result"
    }
   ],
   "source": [
    "df.describe()"
   ]
  },
  {
   "cell_type": "code",
   "execution_count": 9,
   "metadata": {
    "colab": {
     "base_uri": "https://localhost:8080/"
    },
    "id": "5uxXmnK7SwQM",
    "outputId": "67fe2459-c30b-44eb-9b60-c447e2c4350e"
   },
   "outputs": [
    {
     "data": {
      "text/plain": [
       "Index(['ORDERNUMBER', 'QUANTITYORDERED', 'PRICEEACH', 'ORDERLINENUMBER',\n",
       "       'SALES', 'ORDERDATE', 'STATUS', 'QTR_ID', 'MONTH_ID', 'YEAR_ID',\n",
       "       'PRODUCTLINE', 'MSRP', 'PRODUCTCODE', 'CUSTOMERNAME', 'PHONE',\n",
       "       'ADDRESSLINE1', 'ADDRESSLINE2', 'CITY', 'STATE', 'POSTALCODE',\n",
       "       'COUNTRY', 'TERRITORY', 'CONTACTLASTNAME', 'CONTACTFIRSTNAME',\n",
       "       'DEALSIZE'],\n",
       "      dtype='object')"
      ]
     },
     "execution_count": 9,
     "metadata": {},
     "output_type": "execute_result"
    }
   ],
   "source": [
    "df.columns"
   ]
  },
  {
   "cell_type": "markdown",
   "metadata": {
    "id": "MXK9SdkmTeby"
   },
   "source": [
    "**4.Checking percentage missing values in each column of the data**"
   ]
  },
  {
   "cell_type": "code",
   "execution_count": 10,
   "metadata": {
    "colab": {
     "base_uri": "https://localhost:8080/",
     "height": 833
    },
    "id": "KAuykmouTUIa",
    "outputId": "4190e015-0f0f-4505-d843-966a7c142178"
   },
   "outputs": [
    {
     "data": {
      "text/html": [
       "<div>\n",
       "<style scoped>\n",
       "    .dataframe tbody tr th:only-of-type {\n",
       "        vertical-align: middle;\n",
       "    }\n",
       "\n",
       "    .dataframe tbody tr th {\n",
       "        vertical-align: top;\n",
       "    }\n",
       "\n",
       "    .dataframe thead th {\n",
       "        text-align: right;\n",
       "    }\n",
       "</style>\n",
       "<table border=\"1\" class=\"dataframe\">\n",
       "  <thead>\n",
       "    <tr style=\"text-align: right;\">\n",
       "      <th></th>\n",
       "      <th>Total</th>\n",
       "      <th>Percentage of Missing Values</th>\n",
       "    </tr>\n",
       "  </thead>\n",
       "  <tbody>\n",
       "    <tr>\n",
       "      <th>ADDRESSLINE2</th>\n",
       "      <td>2521</td>\n",
       "      <td>89.302161</td>\n",
       "    </tr>\n",
       "    <tr>\n",
       "      <th>STATE</th>\n",
       "      <td>1486</td>\n",
       "      <td>52.639036</td>\n",
       "    </tr>\n",
       "    <tr>\n",
       "      <th>TERRITORY</th>\n",
       "      <td>1074</td>\n",
       "      <td>38.044633</td>\n",
       "    </tr>\n",
       "    <tr>\n",
       "      <th>POSTALCODE</th>\n",
       "      <td>76</td>\n",
       "      <td>2.692171</td>\n",
       "    </tr>\n",
       "    <tr>\n",
       "      <th>ORDERNUMBER</th>\n",
       "      <td>0</td>\n",
       "      <td>0.000000</td>\n",
       "    </tr>\n",
       "    <tr>\n",
       "      <th>CUSTOMERNAME</th>\n",
       "      <td>0</td>\n",
       "      <td>0.000000</td>\n",
       "    </tr>\n",
       "    <tr>\n",
       "      <th>CONTACTFIRSTNAME</th>\n",
       "      <td>0</td>\n",
       "      <td>0.000000</td>\n",
       "    </tr>\n",
       "    <tr>\n",
       "      <th>CONTACTLASTNAME</th>\n",
       "      <td>0</td>\n",
       "      <td>0.000000</td>\n",
       "    </tr>\n",
       "    <tr>\n",
       "      <th>COUNTRY</th>\n",
       "      <td>0</td>\n",
       "      <td>0.000000</td>\n",
       "    </tr>\n",
       "    <tr>\n",
       "      <th>CITY</th>\n",
       "      <td>0</td>\n",
       "      <td>0.000000</td>\n",
       "    </tr>\n",
       "    <tr>\n",
       "      <th>ADDRESSLINE1</th>\n",
       "      <td>0</td>\n",
       "      <td>0.000000</td>\n",
       "    </tr>\n",
       "    <tr>\n",
       "      <th>PHONE</th>\n",
       "      <td>0</td>\n",
       "      <td>0.000000</td>\n",
       "    </tr>\n",
       "    <tr>\n",
       "      <th>PRODUCTCODE</th>\n",
       "      <td>0</td>\n",
       "      <td>0.000000</td>\n",
       "    </tr>\n",
       "    <tr>\n",
       "      <th>QUANTITYORDERED</th>\n",
       "      <td>0</td>\n",
       "      <td>0.000000</td>\n",
       "    </tr>\n",
       "    <tr>\n",
       "      <th>MSRP</th>\n",
       "      <td>0</td>\n",
       "      <td>0.000000</td>\n",
       "    </tr>\n",
       "    <tr>\n",
       "      <th>PRODUCTLINE</th>\n",
       "      <td>0</td>\n",
       "      <td>0.000000</td>\n",
       "    </tr>\n",
       "    <tr>\n",
       "      <th>YEAR_ID</th>\n",
       "      <td>0</td>\n",
       "      <td>0.000000</td>\n",
       "    </tr>\n",
       "    <tr>\n",
       "      <th>MONTH_ID</th>\n",
       "      <td>0</td>\n",
       "      <td>0.000000</td>\n",
       "    </tr>\n",
       "    <tr>\n",
       "      <th>QTR_ID</th>\n",
       "      <td>0</td>\n",
       "      <td>0.000000</td>\n",
       "    </tr>\n",
       "    <tr>\n",
       "      <th>STATUS</th>\n",
       "      <td>0</td>\n",
       "      <td>0.000000</td>\n",
       "    </tr>\n",
       "    <tr>\n",
       "      <th>ORDERDATE</th>\n",
       "      <td>0</td>\n",
       "      <td>0.000000</td>\n",
       "    </tr>\n",
       "    <tr>\n",
       "      <th>SALES</th>\n",
       "      <td>0</td>\n",
       "      <td>0.000000</td>\n",
       "    </tr>\n",
       "    <tr>\n",
       "      <th>ORDERLINENUMBER</th>\n",
       "      <td>0</td>\n",
       "      <td>0.000000</td>\n",
       "    </tr>\n",
       "    <tr>\n",
       "      <th>PRICEEACH</th>\n",
       "      <td>0</td>\n",
       "      <td>0.000000</td>\n",
       "    </tr>\n",
       "    <tr>\n",
       "      <th>DEALSIZE</th>\n",
       "      <td>0</td>\n",
       "      <td>0.000000</td>\n",
       "    </tr>\n",
       "  </tbody>\n",
       "</table>\n",
       "</div>"
      ],
      "text/plain": [
       "                  Total  Percentage of Missing Values\n",
       "ADDRESSLINE2       2521                     89.302161\n",
       "STATE              1486                     52.639036\n",
       "TERRITORY          1074                     38.044633\n",
       "POSTALCODE           76                      2.692171\n",
       "ORDERNUMBER           0                      0.000000\n",
       "CUSTOMERNAME          0                      0.000000\n",
       "CONTACTFIRSTNAME      0                      0.000000\n",
       "CONTACTLASTNAME       0                      0.000000\n",
       "COUNTRY               0                      0.000000\n",
       "CITY                  0                      0.000000\n",
       "ADDRESSLINE1          0                      0.000000\n",
       "PHONE                 0                      0.000000\n",
       "PRODUCTCODE           0                      0.000000\n",
       "QUANTITYORDERED       0                      0.000000\n",
       "MSRP                  0                      0.000000\n",
       "PRODUCTLINE           0                      0.000000\n",
       "YEAR_ID               0                      0.000000\n",
       "MONTH_ID              0                      0.000000\n",
       "QTR_ID                0                      0.000000\n",
       "STATUS                0                      0.000000\n",
       "ORDERDATE             0                      0.000000\n",
       "SALES                 0                      0.000000\n",
       "ORDERLINENUMBER       0                      0.000000\n",
       "PRICEEACH             0                      0.000000\n",
       "DEALSIZE              0                      0.000000"
      ]
     },
     "execution_count": 10,
     "metadata": {},
     "output_type": "execute_result"
    }
   ],
   "source": [
    "Total = df.isnull().sum().sort_values(ascending=False)        \n",
    "\n",
    "Percent = (df.isnull().sum()*100/df.isnull().count()).sort_values(ascending=False)  \n",
    "\n",
    "missing_data = pd.concat([Total, Percent], axis = 1, keys = ['Total', 'Percentage of Missing Values'])    \n",
    "missing_data"
   ]
  },
  {
   "cell_type": "markdown",
   "metadata": {
    "id": "K9o7S3l1T5Ap"
   },
   "source": [
    "**5.checking if there any duplicate rows**"
   ]
  },
  {
   "cell_type": "code",
   "execution_count": 11,
   "metadata": {
    "colab": {
     "base_uri": "https://localhost:8080/"
    },
    "id": "-Xfu6Ed-UC8R",
    "outputId": "874ac201-1615-413f-f89b-0bbc941dff24"
   },
   "outputs": [
    {
     "data": {
      "text/plain": [
       "0"
      ]
     },
     "execution_count": 11,
     "metadata": {},
     "output_type": "execute_result"
    }
   ],
   "source": [
    "len(df[df.duplicated()])"
   ]
  },
  {
   "cell_type": "markdown",
   "metadata": {
    "id": "7GtNR8vlTwOD"
   },
   "source": [
    "# **Visualize the data**"
   ]
  },
  {
   "cell_type": "code",
   "execution_count": 12,
   "metadata": {
    "colab": {
     "base_uri": "https://localhost:8080/",
     "height": 585
    },
    "id": "bLGsPagpT4sz",
    "outputId": "49d52f64-a86c-4479-8e90-29a3516bf4af"
   },
   "outputs": [
    {
     "data": {
      "image/png": "[encoded data removed]",
      "text/plain": [
       "<Figure size 1080x576 with 9 Axes>"
      ]
     },
     "metadata": {
      "needs_background": "light"
     },
     "output_type": "display_data"
    }
   ],
   "source": [
    "plt.rcParams['figure.figsize'] = [15,8]\n",
    "df.hist()\n",
    "plt.tight_layout()\n",
    "plt.show()"
   ]
  },
  {
   "cell_type": "markdown",
   "metadata": {
    "id": "ANaltNLYZV9t"
   },
   "source": [
    "**6.Converting the labales of STATUS column**"
   ]
  },
  {
   "cell_type": "code",
   "execution_count": 13,
   "metadata": {
    "id": "5Ahqaj8PUh_0"
   },
   "outputs": [],
   "source": [
    "df['STATUS'] = df['STATUS'].replace({'Shipped':int(1),'Disputed':int(0),'In Process':int(0),'Cancelled':int(0),'On Hold':int(0),'Resolved':int(0)})"
   ]
  },
  {
   "cell_type": "code",
   "execution_count": 14,
   "metadata": {
    "colab": {
     "base_uri": "https://localhost:8080/"
    },
    "id": "lk9Qkp02Uqcz",
    "outputId": "85d6a036-f527-488b-a910-e53923eb1857"
   },
   "outputs": [
    {
     "data": {
      "text/plain": [
       "1    2617\n",
       "0     206\n",
       "Name: STATUS, dtype: int64"
      ]
     },
     "execution_count": 14,
     "metadata": {},
     "output_type": "execute_result"
    }
   ],
   "source": [
    "df['STATUS'].value_counts()"
   ]
  },
  {
   "cell_type": "markdown",
   "metadata": {
    "id": "VFM1UBEtZjds"
   },
   "source": [
    "**7.Dropping some columns**"
   ]
  },
  {
   "cell_type": "code",
   "execution_count": 15,
   "metadata": {
    "id": "upbQzFauUtQ7"
   },
   "outputs": [],
   "source": [
    "df = df.drop(['ORDERNUMBER','ORDERDATE','PHONE','ADDRESSLINE1', 'ADDRESSLINE2','CONTACTLASTNAME', 'CONTACTFIRSTNAME','PRODUCTCODE'], axis=1)"
   ]
  },
  {
   "cell_type": "markdown",
   "metadata": {
    "id": "l9E0Y5QAaJNj"
   },
   "source": [
    "**8.Imputing the missing values**"
   ]
  },
  {
   "cell_type": "code",
   "execution_count": 16,
   "metadata": {
    "id": "EZ4Lzf43Vd20"
   },
   "outputs": [],
   "source": [
    "df['TERRITORY']=df['TERRITORY'].replace({'EMEA':int(1),'APAC':int(2),'Japan':int(3)})\n",
    "df['TERRITORY'].fillna(int(1),inplace=True)"
   ]
  },
  {
   "cell_type": "code",
   "execution_count": 17,
   "metadata": {
    "id": "SUrZKbVxViTC"
   },
   "outputs": [],
   "source": [
    "df['STATE'].fillna(df['STATE'].mode(),inplace=True)"
   ]
  },
  {
   "cell_type": "code",
   "execution_count": 18,
   "metadata": {
    "id": "lpwI1NRBWGrN"
   },
   "outputs": [],
   "source": [
    "df['POSTALCODE'].fillna(df['POSTALCODE'].mode(),inplace=True)"
   ]
  },
  {
   "cell_type": "code",
   "execution_count": 19,
   "metadata": {
    "id": "Jx1OBS_XX-O0"
   },
   "outputs": [],
   "source": [
    "df = df.drop(['STATE','POSTALCODE'],axis=1)"
   ]
  },
  {
   "cell_type": "code",
   "execution_count": 20,
   "metadata": {
    "colab": {
     "base_uri": "https://localhost:8080/"
    },
    "id": "jf9bkL4LYMqi",
    "outputId": "2d6c1c55-4e83-4d39-b398-003e06e74576"
   },
   "outputs": [
    {
     "data": {
      "text/plain": [
       "(2823, 15)"
      ]
     },
     "execution_count": 20,
     "metadata": {},
     "output_type": "execute_result"
    }
   ],
   "source": [
    "df.shape"
   ]
  },
  {
   "cell_type": "markdown",
   "metadata": {
    "id": "IAMfDKyIadSL"
   },
   "source": [
    "**9.Using Lable Encoder for Categorical columns**"
   ]
  },
  {
   "cell_type": "code",
   "execution_count": 21,
   "metadata": {
    "id": "a6CeI1tUYTsS"
   },
   "outputs": [],
   "source": [
    "label_encoder = preprocessing.LabelEncoder()\n",
    "\n",
    "cols = ['PRODUCTLINE','CUSTOMERNAME','CITY','COUNTRY', 'TERRITORY','DEALSIZE']\n",
    "for i in cols:\n",
    "    df[i]= label_encoder.fit_transform(df[i])"
   ]
  },
  {
   "cell_type": "code",
   "execution_count": 22,
   "metadata": {
    "colab": {
     "base_uri": "https://localhost:8080/",
     "height": 270
    },
    "id": "seBZYpuoYrg0",
    "outputId": "d0135d36-ced9-44ab-d0ce-c732c6b9c804"
   },
   "outputs": [
    {
     "data": {
      "text/html": [
       "<div>\n",
       "<style scoped>\n",
       "    .dataframe tbody tr th:only-of-type {\n",
       "        vertical-align: middle;\n",
       "    }\n",
       "\n",
       "    .dataframe tbody tr th {\n",
       "        vertical-align: top;\n",
       "    }\n",
       "\n",
       "    .dataframe thead th {\n",
       "        text-align: right;\n",
       "    }\n",
       "</style>\n",
       "<table border=\"1\" class=\"dataframe\">\n",
       "  <thead>\n",
       "    <tr style=\"text-align: right;\">\n",
       "      <th></th>\n",
       "      <th>QUANTITYORDERED</th>\n",
       "      <th>PRICEEACH</th>\n",
       "      <th>ORDERLINENUMBER</th>\n",
       "      <th>SALES</th>\n",
       "      <th>STATUS</th>\n",
       "      <th>QTR_ID</th>\n",
       "      <th>MONTH_ID</th>\n",
       "      <th>YEAR_ID</th>\n",
       "      <th>PRODUCTLINE</th>\n",
       "      <th>MSRP</th>\n",
       "      <th>CUSTOMERNAME</th>\n",
       "      <th>CITY</th>\n",
       "      <th>COUNTRY</th>\n",
       "      <th>TERRITORY</th>\n",
       "      <th>DEALSIZE</th>\n",
       "    </tr>\n",
       "  </thead>\n",
       "  <tbody>\n",
       "    <tr>\n",
       "      <th>0</th>\n",
       "      <td>30</td>\n",
       "      <td>95.70</td>\n",
       "      <td>2</td>\n",
       "      <td>2871.00</td>\n",
       "      <td>1</td>\n",
       "      <td>1</td>\n",
       "      <td>2</td>\n",
       "      <td>2003</td>\n",
       "      <td>1</td>\n",
       "      <td>95</td>\n",
       "      <td>45</td>\n",
       "      <td>42</td>\n",
       "      <td>18</td>\n",
       "      <td>0</td>\n",
       "      <td>2</td>\n",
       "    </tr>\n",
       "    <tr>\n",
       "      <th>1</th>\n",
       "      <td>34</td>\n",
       "      <td>81.35</td>\n",
       "      <td>5</td>\n",
       "      <td>2765.90</td>\n",
       "      <td>1</td>\n",
       "      <td>2</td>\n",
       "      <td>5</td>\n",
       "      <td>2003</td>\n",
       "      <td>1</td>\n",
       "      <td>95</td>\n",
       "      <td>66</td>\n",
       "      <td>56</td>\n",
       "      <td>6</td>\n",
       "      <td>0</td>\n",
       "      <td>2</td>\n",
       "    </tr>\n",
       "    <tr>\n",
       "      <th>2</th>\n",
       "      <td>41</td>\n",
       "      <td>94.74</td>\n",
       "      <td>2</td>\n",
       "      <td>3884.34</td>\n",
       "      <td>1</td>\n",
       "      <td>3</td>\n",
       "      <td>7</td>\n",
       "      <td>2003</td>\n",
       "      <td>1</td>\n",
       "      <td>95</td>\n",
       "      <td>46</td>\n",
       "      <td>52</td>\n",
       "      <td>6</td>\n",
       "      <td>0</td>\n",
       "      <td>1</td>\n",
       "    </tr>\n",
       "    <tr>\n",
       "      <th>3</th>\n",
       "      <td>45</td>\n",
       "      <td>83.26</td>\n",
       "      <td>6</td>\n",
       "      <td>3746.70</td>\n",
       "      <td>1</td>\n",
       "      <td>3</td>\n",
       "      <td>8</td>\n",
       "      <td>2003</td>\n",
       "      <td>1</td>\n",
       "      <td>95</td>\n",
       "      <td>85</td>\n",
       "      <td>53</td>\n",
       "      <td>18</td>\n",
       "      <td>0</td>\n",
       "      <td>1</td>\n",
       "    </tr>\n",
       "    <tr>\n",
       "      <th>4</th>\n",
       "      <td>49</td>\n",
       "      <td>100.00</td>\n",
       "      <td>14</td>\n",
       "      <td>5205.27</td>\n",
       "      <td>1</td>\n",
       "      <td>4</td>\n",
       "      <td>10</td>\n",
       "      <td>2003</td>\n",
       "      <td>1</td>\n",
       "      <td>95</td>\n",
       "      <td>23</td>\n",
       "      <td>59</td>\n",
       "      <td>18</td>\n",
       "      <td>0</td>\n",
       "      <td>1</td>\n",
       "    </tr>\n",
       "  </tbody>\n",
       "</table>\n",
       "</div>"
      ],
      "text/plain": [
       "   QUANTITYORDERED  PRICEEACH  ORDERLINENUMBER    SALES  STATUS  QTR_ID  \\\n",
       "0               30      95.70                2  2871.00       1       1   \n",
       "1               34      81.35                5  2765.90       1       2   \n",
       "2               41      94.74                2  3884.34       1       3   \n",
       "3               45      83.26                6  3746.70       1       3   \n",
       "4               49     100.00               14  5205.27       1       4   \n",
       "\n",
       "   MONTH_ID  YEAR_ID  PRODUCTLINE  MSRP  CUSTOMERNAME  CITY  COUNTRY  \\\n",
       "0         2     2003            1    95            45    42       18   \n",
       "1         5     2003            1    95            66    56        6   \n",
       "2         7     2003            1    95            46    52        6   \n",
       "3         8     2003            1    95            85    53       18   \n",
       "4        10     2003            1    95            23    59       18   \n",
       "\n",
       "   TERRITORY  DEALSIZE  \n",
       "0          0         2  \n",
       "1          0         2  \n",
       "2          0         1  \n",
       "3          0         1  \n",
       "4          0         1  "
      ]
     },
     "execution_count": 22,
     "metadata": {},
     "output_type": "execute_result"
    }
   ],
   "source": [
    "df.head()"
   ]
  },
  {
   "cell_type": "code",
   "execution_count": 23,
   "metadata": {
    "colab": {
     "base_uri": "https://localhost:8080/",
     "height": 975
    },
    "id": "OBdSrygeY1Z6",
    "outputId": "bfa90a28-eadc-44d7-ef50-569b7e24368b"
   },
   "outputs": [
    {
     "data": {
      "text/plain": [
       "<AxesSubplot:>"
      ]
     },
     "execution_count": 23,
     "metadata": {},
     "output_type": "execute_result"
    },
    {
     "data": {
      "image/png": "[encoded data removed]",
      "text/plain": [
       "<Figure size 1080x1080 with 2 Axes>"
      ]
     },
     "metadata": {
      "needs_background": "light"
     },
     "output_type": "display_data"
    }
   ],
   "source": [
    "fig, ax = plt.subplots(figsize=(15, 15))\n",
    "sns.heatmap(df.corr(), annot=True)"
   ]
  },
  {
   "cell_type": "markdown",
   "metadata": {
    "id": "vGpWTa-2o1rv"
   },
   "source": [
    "**10 Using OneHotEncoder for converting categorical columns into dummy columns**"
   ]
  },
  {
   "cell_type": "markdown",
   "metadata": {
    "id": "qEz-t8--bLaA"
   },
   "source": [
    "\n",
    "---\n",
    "\n",
    "NOTE: we have converted the enc.fit_transform() method to array because the fit_transform method \n",
    "of OneHotEncoder returns SpiPy sparse matrix this enables us to save space when we \n",
    "have huge  number of categorical variables\n",
    "\n",
    "---"
   ]
  },
  {
   "cell_type": "code",
   "execution_count": 24,
   "metadata": {
    "colab": {
     "base_uri": "https://localhost:8080/",
     "height": 299
    },
    "id": "fEjOtB5TZqCa",
    "outputId": "d4a1ba5c-38e7-4c27-e9c1-dfbef0161fc4"
   },
   "outputs": [
    {
     "data": {
      "text/html": [
       "<div>\n",
       "<style scoped>\n",
       "    .dataframe tbody tr th:only-of-type {\n",
       "        vertical-align: middle;\n",
       "    }\n",
       "\n",
       "    .dataframe tbody tr th {\n",
       "        vertical-align: top;\n",
       "    }\n",
       "\n",
       "    .dataframe thead th {\n",
       "        text-align: right;\n",
       "    }\n",
       "</style>\n",
       "<table border=\"1\" class=\"dataframe\">\n",
       "  <thead>\n",
       "    <tr style=\"text-align: right;\">\n",
       "      <th></th>\n",
       "      <th>QUANTITYORDERED</th>\n",
       "      <th>PRICEEACH</th>\n",
       "      <th>ORDERLINENUMBER</th>\n",
       "      <th>SALES</th>\n",
       "      <th>STATUS</th>\n",
       "      <th>QTR_ID</th>\n",
       "      <th>MONTH_ID</th>\n",
       "      <th>YEAR_ID</th>\n",
       "      <th>PRODUCTLINE</th>\n",
       "      <th>MSRP</th>\n",
       "      <th>...</th>\n",
       "      <th>224</th>\n",
       "      <th>225</th>\n",
       "      <th>226</th>\n",
       "      <th>227</th>\n",
       "      <th>228</th>\n",
       "      <th>229</th>\n",
       "      <th>230</th>\n",
       "      <th>231</th>\n",
       "      <th>232</th>\n",
       "      <th>233</th>\n",
       "    </tr>\n",
       "  </thead>\n",
       "  <tbody>\n",
       "    <tr>\n",
       "      <th>0</th>\n",
       "      <td>30</td>\n",
       "      <td>95.70</td>\n",
       "      <td>2</td>\n",
       "      <td>2871.00</td>\n",
       "      <td>1</td>\n",
       "      <td>1</td>\n",
       "      <td>2</td>\n",
       "      <td>2003</td>\n",
       "      <td>1</td>\n",
       "      <td>95</td>\n",
       "      <td>...</td>\n",
       "      <td>0.0</td>\n",
       "      <td>0.0</td>\n",
       "      <td>0.0</td>\n",
       "      <td>1.0</td>\n",
       "      <td>1.0</td>\n",
       "      <td>0.0</td>\n",
       "      <td>0.0</td>\n",
       "      <td>0.0</td>\n",
       "      <td>0.0</td>\n",
       "      <td>1.0</td>\n",
       "    </tr>\n",
       "    <tr>\n",
       "      <th>1</th>\n",
       "      <td>34</td>\n",
       "      <td>81.35</td>\n",
       "      <td>5</td>\n",
       "      <td>2765.90</td>\n",
       "      <td>1</td>\n",
       "      <td>2</td>\n",
       "      <td>5</td>\n",
       "      <td>2003</td>\n",
       "      <td>1</td>\n",
       "      <td>95</td>\n",
       "      <td>...</td>\n",
       "      <td>0.0</td>\n",
       "      <td>0.0</td>\n",
       "      <td>0.0</td>\n",
       "      <td>0.0</td>\n",
       "      <td>1.0</td>\n",
       "      <td>0.0</td>\n",
       "      <td>0.0</td>\n",
       "      <td>0.0</td>\n",
       "      <td>0.0</td>\n",
       "      <td>1.0</td>\n",
       "    </tr>\n",
       "    <tr>\n",
       "      <th>2</th>\n",
       "      <td>41</td>\n",
       "      <td>94.74</td>\n",
       "      <td>2</td>\n",
       "      <td>3884.34</td>\n",
       "      <td>1</td>\n",
       "      <td>3</td>\n",
       "      <td>7</td>\n",
       "      <td>2003</td>\n",
       "      <td>1</td>\n",
       "      <td>95</td>\n",
       "      <td>...</td>\n",
       "      <td>0.0</td>\n",
       "      <td>0.0</td>\n",
       "      <td>0.0</td>\n",
       "      <td>0.0</td>\n",
       "      <td>1.0</td>\n",
       "      <td>0.0</td>\n",
       "      <td>0.0</td>\n",
       "      <td>0.0</td>\n",
       "      <td>1.0</td>\n",
       "      <td>0.0</td>\n",
       "    </tr>\n",
       "    <tr>\n",
       "      <th>3</th>\n",
       "      <td>45</td>\n",
       "      <td>83.26</td>\n",
       "      <td>6</td>\n",
       "      <td>3746.70</td>\n",
       "      <td>1</td>\n",
       "      <td>3</td>\n",
       "      <td>8</td>\n",
       "      <td>2003</td>\n",
       "      <td>1</td>\n",
       "      <td>95</td>\n",
       "      <td>...</td>\n",
       "      <td>0.0</td>\n",
       "      <td>0.0</td>\n",
       "      <td>0.0</td>\n",
       "      <td>1.0</td>\n",
       "      <td>1.0</td>\n",
       "      <td>0.0</td>\n",
       "      <td>0.0</td>\n",
       "      <td>0.0</td>\n",
       "      <td>1.0</td>\n",
       "      <td>0.0</td>\n",
       "    </tr>\n",
       "    <tr>\n",
       "      <th>4</th>\n",
       "      <td>49</td>\n",
       "      <td>100.00</td>\n",
       "      <td>14</td>\n",
       "      <td>5205.27</td>\n",
       "      <td>1</td>\n",
       "      <td>4</td>\n",
       "      <td>10</td>\n",
       "      <td>2003</td>\n",
       "      <td>1</td>\n",
       "      <td>95</td>\n",
       "      <td>...</td>\n",
       "      <td>0.0</td>\n",
       "      <td>0.0</td>\n",
       "      <td>0.0</td>\n",
       "      <td>1.0</td>\n",
       "      <td>1.0</td>\n",
       "      <td>0.0</td>\n",
       "      <td>0.0</td>\n",
       "      <td>0.0</td>\n",
       "      <td>1.0</td>\n",
       "      <td>0.0</td>\n",
       "    </tr>\n",
       "  </tbody>\n",
       "</table>\n",
       "<p>5 rows × 249 columns</p>\n",
       "</div>"
      ],
      "text/plain": [
       "   QUANTITYORDERED  PRICEEACH  ORDERLINENUMBER    SALES  STATUS  QTR_ID  \\\n",
       "0               30      95.70                2  2871.00       1       1   \n",
       "1               34      81.35                5  2765.90       1       2   \n",
       "2               41      94.74                2  3884.34       1       3   \n",
       "3               45      83.26                6  3746.70       1       3   \n",
       "4               49     100.00               14  5205.27       1       4   \n",
       "\n",
       "   MONTH_ID  YEAR_ID  PRODUCTLINE  MSRP  ...  224  225  226  227  228  229  \\\n",
       "0         2     2003            1    95  ...  0.0  0.0  0.0  1.0  1.0  0.0   \n",
       "1         5     2003            1    95  ...  0.0  0.0  0.0  0.0  1.0  0.0   \n",
       "2         7     2003            1    95  ...  0.0  0.0  0.0  0.0  1.0  0.0   \n",
       "3         8     2003            1    95  ...  0.0  0.0  0.0  1.0  1.0  0.0   \n",
       "4        10     2003            1    95  ...  0.0  0.0  0.0  1.0  1.0  0.0   \n",
       "\n",
       "   230  231  232  233  \n",
       "0  0.0  0.0  0.0  1.0  \n",
       "1  0.0  0.0  0.0  1.0  \n",
       "2  0.0  0.0  1.0  0.0  \n",
       "3  0.0  0.0  1.0  0.0  \n",
       "4  0.0  0.0  1.0  0.0  \n",
       "\n",
       "[5 rows x 249 columns]"
      ]
     },
     "execution_count": 24,
     "metadata": {},
     "output_type": "execute_result"
    }
   ],
   "source": [
    "from sklearn.preprocessing import OneHotEncoder\n",
    "enc=OneHotEncoder()\n",
    "\n",
    "#Passing encoded columns\n",
    "cols = ['ORDERLINENUMBER','QTR_ID', 'MONTH_ID', 'YEAR_ID', 'PRODUCTLINE','CUSTOMERNAME',\n",
    "       'CITY', 'COUNTRY', 'TERRITORY', 'DEALSIZE']\n",
    "enc_data=pd.DataFrame(enc.fit_transform(df[cols]).toarray())\n",
    "  \n",
    "#Merge with main\n",
    "New_df=df.join(enc_data)\n",
    "\n",
    "New_df.head()"
   ]
  },
  {
   "cell_type": "code",
   "execution_count": 25,
   "metadata": {
    "id": "SWsUau04Z7G9"
   },
   "outputs": [],
   "source": [
    "New_df = New_df.drop(cols,axis=1)"
   ]
  },
  {
   "cell_type": "code",
   "execution_count": 26,
   "metadata": {
    "colab": {
     "base_uri": "https://localhost:8080/"
    },
    "id": "bo38pe9jZy5M",
    "outputId": "ba86d9cc-e9cd-4320-ce4d-5685dddb1bc1"
   },
   "outputs": [
    {
     "data": {
      "text/plain": [
       "(2823, 239)"
      ]
     },
     "execution_count": 26,
     "metadata": {},
     "output_type": "execute_result"
    }
   ],
   "source": [
    "New_df.shape"
   ]
  },
  {
   "cell_type": "markdown",
   "metadata": {
    "id": "SoF_8OVfacBQ"
   },
   "source": [
    "# **Standardizing the Features**"
   ]
  },
  {
   "cell_type": "code",
   "execution_count": 27,
   "metadata": {
    "colab": {
     "base_uri": "https://localhost:8080/"
    },
    "id": "ay-iFCiaamQ0",
    "outputId": "fae5c5d5-0e5f-4a4a-ccf2-7ec661232c4d"
   },
   "outputs": [
    {
     "data": {
      "text/plain": [
       "(2823, 239)"
      ]
     },
     "execution_count": 27,
     "metadata": {},
     "output_type": "execute_result"
    }
   ],
   "source": [
    "l = New_df.values\n",
    "l.shape"
   ]
  },
  {
   "cell_type": "code",
   "execution_count": 28,
   "metadata": {
    "id": "MaZ7Z0sEa9ST"
   },
   "outputs": [],
   "source": [
    "from sklearn.preprocessing import StandardScaler\n",
    "scaler = StandardScaler()\n",
    "scaler.fit(l)\n",
    "l_scaled = scaler.transform(l)"
   ]
  },
  {
   "cell_type": "markdown",
   "metadata": {
    "id": "0zdzPa3CchiL"
   },
   "source": [
    "# **PCA Analysis**"
   ]
  },
  {
   "cell_type": "code",
   "execution_count": 29,
   "metadata": {
    "id": "U4Hv3WGDclyL"
   },
   "outputs": [],
   "source": [
    "from sklearn.decomposition import PCA\n",
    "\n",
    "pca_239 = PCA(n_components=239 ,  random_state=42)\n",
    "pca_239.fit(l_scaled)\n",
    "l_pca_239 = pca_239.transform(l_scaled)"
   ]
  },
  {
   "cell_type": "code",
   "execution_count": 30,
   "metadata": {
    "colab": {
     "base_uri": "https://localhost:8080/"
    },
    "id": "KncQdvihidCi",
    "outputId": "36c4b8d5-e4a7-495e-8680-9e1c175b178b"
   },
   "outputs": [
    {
     "name": "stdout",
     "output_type": "stream",
     "text": [
      "Variance Explained by all 239 principal components: 99.99999999999996\n"
     ]
    }
   ],
   "source": [
    "print(\"Variance Explained by all 239 principal components:\",\n",
    "      sum(pca_239.explained_variance_ratio_ * 100))"
   ]
  },
  {
   "cell_type": "markdown",
   "metadata": {
    "id": "bAe-nEReceqU"
   },
   "source": [
    "---\n",
    "\n",
    "\n",
    "\n",
    "Note : We have set n_components=239.The original number of dimensions in our dataset is also 239. We have not reduced the dimensionality at all (we’ve just transformed the data). Therefore, the percentage of variance explained by 239 principal components should be 100%.\n",
    "\n",
    "\n",
    "\n",
    "---\n",
    "\n"
   ]
  },
  {
   "cell_type": "code",
   "execution_count": 31,
   "metadata": {
    "colab": {
     "base_uri": "https://localhost:8080/",
     "height": 514
    },
    "id": "eAt103lLjJZK",
    "outputId": "e08e4aca-b598-489c-dcaa-c14315c35815"
   },
   "outputs": [
    {
     "data": {
      "text/plain": [
       "Text(0, 0.5, 'Explained variance (%)')"
      ]
     },
     "execution_count": 31,
     "metadata": {},
     "output_type": "execute_result"
    },
    {
     "data": {
      "image/png": "[encoded data removed]",
      "text/plain": [
       "<Figure size 1080x576 with 1 Axes>"
      ]
     },
     "metadata": {
      "needs_background": "light"
     },
     "output_type": "display_data"
    }
   ],
   "source": [
    "plt.plot(np.cumsum(pca_239.explained_variance_ratio_ *100))\n",
    "plt.xlabel(\"Number of components\")\n",
    "plt.ylabel(\"Explained variance (%)\")"
   ]
  },
  {
   "cell_type": "code",
   "execution_count": 32,
   "metadata": {
    "colab": {
     "base_uri": "https://localhost:8080/"
    },
    "id": "3ygt4Io7kFI7",
    "outputId": "a1dc99ee-e86f-425c-f56d-67a218e62db3"
   },
   "outputs": [
    {
     "name": "stdout",
     "output_type": "stream",
     "text": [
      "Variance Explained by the First principal components: 2.1474332702223435\n",
      "Variance Explained by the First 2 principal components: 3.940518017480907\n",
      "Variance Explained by the First 3 principal components: 5.670808260769742\n",
      "Variance Explained by the First 100 principal components: 90.13667031913799\n"
     ]
    }
   ],
   "source": [
    "print(\"Variance Explained by the First principal components:\",\n",
    "      np.cumsum(pca_239.explained_variance_ratio_ * 100)[0])\n",
    "print(\"Variance Explained by the First 2 principal components:\",\n",
    "      np.cumsum(pca_239.explained_variance_ratio_ * 100)[1])\n",
    "print(\"Variance Explained by the First 3 principal components:\",\n",
    "      np.cumsum(pca_239.explained_variance_ratio_ * 100)[2])\n",
    "print(\"Variance Explained by the First 100 principal components:\",\n",
    "      np.cumsum(pca_239.explained_variance_ratio_ * 100)[100])"
   ]
  },
  {
   "cell_type": "markdown",
   "metadata": {
    "id": "jOBwGZsmeR_D"
   },
   "source": [
    "---\n",
    "Note:\n",
    "You can see that the first 100 (refer plot also) principal components keep about 90% of the variability in the dataset while reducing 139 (out of 239) features in the dataset. That’s great. The remaining 139 features only contain less than 10% of the variability in data.\n",
    "\n",
    "---"
   ]
  },
  {
   "cell_type": "markdown",
   "metadata": {
    "id": "7dg3Wgr9mFZB"
   },
   "source": [
    "# Apply PCA by setting n_components=2"
   ]
  },
  {
   "cell_type": "code",
   "execution_count": 33,
   "metadata": {
    "id": "l8vD0oCsmKjQ"
   },
   "outputs": [],
   "source": [
    "pca_2 = PCA(n_components=2 , random_state=42)\n",
    "pca_2.fit(l_scaled)\n",
    "l_pca_2 = pca_2.transform(l_scaled)"
   ]
  },
  {
   "cell_type": "code",
   "execution_count": 34,
   "metadata": {
    "colab": {
     "base_uri": "https://localhost:8080/",
     "height": 609
    },
    "id": "y541pkHBmT3H",
    "outputId": "5e20c243-217d-4dfc-8184-9340ed97bd59"
   },
   "outputs": [
    {
     "data": {
      "text/plain": [
       "<AxesSubplot:>"
      ]
     },
     "execution_count": 34,
     "metadata": {},
     "output_type": "execute_result"
    },
    {
     "data": {
      "image/png": "[encoded data removed]",
      "text/plain": [
       "<Figure size 720x720 with 1 Axes>"
      ]
     },
     "metadata": {
      "needs_background": "light"
     },
     "output_type": "display_data"
    }
   ],
   "source": [
    "plt.figure(figsize=(10,10))\n",
    "sns.scatterplot(x=l_pca_2[:,0],y=l_pca_2[:,1],s=70,\n",
    "                hue=New_df['STATUS'], palette=[\"green\",'blue'])\n"
   ]
  },
  {
   "cell_type": "code",
   "execution_count": 35,
   "metadata": {
    "colab": {
     "base_uri": "https://localhost:8080/",
     "height": 514
    },
    "id": "UbVGaR6v0GRU",
    "outputId": "b4f1152f-00af-4487-c7d8-97904adf708f"
   },
   "outputs": [
    {
     "data": {
      "text/plain": [
       "<matplotlib.legend.Legend at 0x12d30ba1880>"
      ]
     },
     "execution_count": 35,
     "metadata": {},
     "output_type": "execute_result"
    },
    {
     "data": {
      "image/png": "[encoded data removed]",
      "text/plain": [
       "<Figure size 1080x576 with 1 Axes>"
      ]
     },
     "metadata": {
      "needs_background": "light"
     },
     "output_type": "display_data"
    }
   ],
   "source": [
    "exp_var = pca_2.explained_variance_ratio_ * 100\n",
    "cum_exp_var = np.cumsum(exp_var)\n",
    "\n",
    "plt.bar(range(1,len(exp_var)+1), exp_var, align='center',\n",
    "        label='Individual explained variance')\n",
    "\n",
    "plt.step(range(1,len(exp_var)+1), cum_exp_var, where='mid',\n",
    "         label='Cumulative explained variance', color='red')\n",
    "\n",
    "plt.ylabel('Explained variance percentage')\n",
    "plt.xlabel('Principal component index')\n",
    "#plt.xticks(ticks=[1, 2, 3, 4])\n",
    "plt.legend(loc='best')\n",
    "#plt.tight_layout()"
   ]
  },
  {
   "cell_type": "markdown",
   "metadata": {
    "id": "n6gGXnyagUxn"
   },
   "source": [
    "\n",
    "---\n",
    "Above plot of two principal components that captures only 3.94% (approx 4%) of the varibility in the data\n",
    "\n",
    "Note :Reducing the number of dimensions down to two or three makes it possible to create a 2d scatterplot or 3d scatterplot which helps us to detect patterns such as clusters. Therefore, dimensionality reduction is extremely useful for data visualization.\n",
    "\n",
    "\n",
    "\n",
    "---\n",
    "\n"
   ]
  },
  {
   "cell_type": "markdown",
   "metadata": {
    "id": "gHiFk5WxrmL5"
   },
   "source": [
    "# Apply PCA by setting n_components=0.90"
   ]
  },
  {
   "cell_type": "code",
   "execution_count": 36,
   "metadata": {
    "id": "7JYhU6ARropJ"
   },
   "outputs": [],
   "source": [
    "pca_90 = PCA(n_components=0.90 ,  random_state=42)\n",
    "pca_90.fit(l_scaled)\n",
    "l_pca_90 = pca_90.transform(l_scaled)"
   ]
  },
  {
   "cell_type": "code",
   "execution_count": 37,
   "metadata": {
    "colab": {
     "base_uri": "https://localhost:8080/"
    },
    "id": "cLgBP-dEr4OZ",
    "outputId": "8ee78062-b7b8-47a8-81d5-b69fdccf39b2"
   },
   "outputs": [
    {
     "data": {
      "text/plain": [
       "(2823, 101)"
      ]
     },
     "execution_count": 37,
     "metadata": {},
     "output_type": "execute_result"
    }
   ],
   "source": [
    "l_pca_90.shape"
   ]
  },
  {
   "cell_type": "markdown",
   "metadata": {
    "id": "nCBk74vhht3s"
   },
   "source": [
    "---\n",
    "Note : for getting approx 90% of Explained Variance we need to consider 101 components\n",
    "\n",
    "---\n",
    "\n"
   ]
  },
  {
   "cell_type": "code",
   "execution_count": 38,
   "metadata": {
    "colab": {
     "base_uri": "https://localhost:8080/",
     "height": 514
    },
    "id": "9fspBxnk0eVt",
    "outputId": "c6d94498-a91d-43c2-926e-29f53e496c05"
   },
   "outputs": [
    {
     "data": {
      "text/plain": [
       "<matplotlib.legend.Legend at 0x12d30803910>"
      ]
     },
     "execution_count": 38,
     "metadata": {},
     "output_type": "execute_result"
    },
    {
     "data": {
      "image/png": "[encoded data removed]",
      "text/plain": [
       "<Figure size 1080x576 with 1 Axes>"
      ]
     },
     "metadata": {
      "needs_background": "light"
     },
     "output_type": "display_data"
    }
   ],
   "source": [
    "exp_var = pca_90.explained_variance_ratio_ * 100\n",
    "cum_exp_var = np.cumsum(exp_var)\n",
    "\n",
    "plt.bar(range(1,len(exp_var)+1), exp_var, align='center',\n",
    "        label='Individual explained variance')\n",
    "\n",
    "plt.step(range(1,len(exp_var)+1), cum_exp_var, where='mid',\n",
    "         label='Cumulative explained variance', color='red')\n",
    "\n",
    "plt.ylabel('Explained variance percentage')\n",
    "plt.xlabel('Principal component index')\n",
    "#plt.xticks(ticks=[1, 2, 3, 4])\n",
    "plt.legend(loc='best')\n",
    "#plt.tight_layout()"
   ]
  },
  {
   "cell_type": "markdown",
   "metadata": {
    "id": "ktQr1wXCsTID"
   },
   "source": [
    "# CREATE DATASET WITH 101 PRINCIPAL COMPONENTS "
   ]
  },
  {
   "cell_type": "code",
   "execution_count": 39,
   "metadata": {
    "colab": {
     "base_uri": "https://localhost:8080/"
    },
    "id": "nB3enKvssw15",
    "outputId": "0070b6eb-5c12-417e-ac18-d2e2f8725599"
   },
   "outputs": [
    {
     "name": "stdout",
     "output_type": "stream",
     "text": [
      "['PC1', 'PC2', 'PC3', 'PC4', 'PC5', 'PC6', 'PC7', 'PC8', 'PC9', 'PC10', 'PC11', 'PC12', 'PC13', 'PC14', 'PC15', 'PC16', 'PC17', 'PC18', 'PC19', 'PC20', 'PC21', 'PC22', 'PC23', 'PC24', 'PC25', 'PC26', 'PC27', 'PC28', 'PC29', 'PC30', 'PC31', 'PC32', 'PC33', 'PC34', 'PC35', 'PC36', 'PC37', 'PC38', 'PC39', 'PC40', 'PC41', 'PC42', 'PC43', 'PC44', 'PC45', 'PC46', 'PC47', 'PC48', 'PC49', 'PC50', 'PC51', 'PC52', 'PC53', 'PC54', 'PC55', 'PC56', 'PC57', 'PC58', 'PC59', 'PC60', 'PC61', 'PC62', 'PC63', 'PC64', 'PC65', 'PC66', 'PC67', 'PC68', 'PC69', 'PC70', 'PC71', 'PC72', 'PC73', 'PC74', 'PC75', 'PC76', 'PC77', 'PC78', 'PC79', 'PC80', 'PC81', 'PC82', 'PC83', 'PC84', 'PC85', 'PC86', 'PC87', 'PC88', 'PC89', 'PC90', 'PC91', 'PC92', 'PC93', 'PC94', 'PC95', 'PC96', 'PC97', 'PC98', 'PC99', 'PC100', 'PC101']\n"
     ]
    }
   ],
   "source": [
    "cols = []\n",
    "for i in range(1,102):\n",
    "  z = 'PC'+str(i)\n",
    "  cols.append(z)\n",
    "print(cols)"
   ]
  },
  {
   "cell_type": "code",
   "execution_count": 40,
   "metadata": {
    "colab": {
     "base_uri": "https://localhost:8080/",
     "height": 299
    },
    "id": "3PkzvbQDtvw0",
    "outputId": "66c691cf-8cbf-4fec-e794-a70ad852051e"
   },
   "outputs": [
    {
     "data": {
      "text/html": [
       "<div>\n",
       "<style scoped>\n",
       "    .dataframe tbody tr th:only-of-type {\n",
       "        vertical-align: middle;\n",
       "    }\n",
       "\n",
       "    .dataframe tbody tr th {\n",
       "        vertical-align: top;\n",
       "    }\n",
       "\n",
       "    .dataframe thead th {\n",
       "        text-align: right;\n",
       "    }\n",
       "</style>\n",
       "<table border=\"1\" class=\"dataframe\">\n",
       "  <thead>\n",
       "    <tr style=\"text-align: right;\">\n",
       "      <th></th>\n",
       "      <th>PC1</th>\n",
       "      <th>PC2</th>\n",
       "      <th>PC3</th>\n",
       "      <th>PC4</th>\n",
       "      <th>PC5</th>\n",
       "      <th>PC6</th>\n",
       "      <th>PC7</th>\n",
       "      <th>PC8</th>\n",
       "      <th>PC9</th>\n",
       "      <th>PC10</th>\n",
       "      <th>...</th>\n",
       "      <th>PC93</th>\n",
       "      <th>PC94</th>\n",
       "      <th>PC95</th>\n",
       "      <th>PC96</th>\n",
       "      <th>PC97</th>\n",
       "      <th>PC98</th>\n",
       "      <th>PC99</th>\n",
       "      <th>PC100</th>\n",
       "      <th>PC101</th>\n",
       "      <th>label</th>\n",
       "    </tr>\n",
       "  </thead>\n",
       "  <tbody>\n",
       "    <tr>\n",
       "      <th>0</th>\n",
       "      <td>-0.720063</td>\n",
       "      <td>0.122605</td>\n",
       "      <td>-0.515013</td>\n",
       "      <td>0.513189</td>\n",
       "      <td>0.466034</td>\n",
       "      <td>-0.397343</td>\n",
       "      <td>-1.913108</td>\n",
       "      <td>-0.910245</td>\n",
       "      <td>0.445693</td>\n",
       "      <td>-0.846670</td>\n",
       "      <td>...</td>\n",
       "      <td>0.577155</td>\n",
       "      <td>-0.743289</td>\n",
       "      <td>-0.498545</td>\n",
       "      <td>-0.360832</td>\n",
       "      <td>0.000424</td>\n",
       "      <td>0.300017</td>\n",
       "      <td>-0.473126</td>\n",
       "      <td>-0.445127</td>\n",
       "      <td>1.128234</td>\n",
       "      <td>1</td>\n",
       "    </tr>\n",
       "    <tr>\n",
       "      <th>1</th>\n",
       "      <td>-0.523368</td>\n",
       "      <td>1.852052</td>\n",
       "      <td>-1.034158</td>\n",
       "      <td>0.835044</td>\n",
       "      <td>-1.691395</td>\n",
       "      <td>-0.134223</td>\n",
       "      <td>-1.363387</td>\n",
       "      <td>2.460917</td>\n",
       "      <td>-2.327585</td>\n",
       "      <td>0.540751</td>\n",
       "      <td>...</td>\n",
       "      <td>0.990080</td>\n",
       "      <td>-0.606732</td>\n",
       "      <td>0.998591</td>\n",
       "      <td>0.537201</td>\n",
       "      <td>-0.077965</td>\n",
       "      <td>-0.393844</td>\n",
       "      <td>-0.139949</td>\n",
       "      <td>0.022649</td>\n",
       "      <td>-0.566167</td>\n",
       "      <td>1</td>\n",
       "    </tr>\n",
       "    <tr>\n",
       "      <th>2</th>\n",
       "      <td>-0.633494</td>\n",
       "      <td>0.561011</td>\n",
       "      <td>0.161267</td>\n",
       "      <td>-0.848280</td>\n",
       "      <td>1.377325</td>\n",
       "      <td>-0.314234</td>\n",
       "      <td>-1.229960</td>\n",
       "      <td>3.040107</td>\n",
       "      <td>-1.968389</td>\n",
       "      <td>0.749645</td>\n",
       "      <td>...</td>\n",
       "      <td>2.857813</td>\n",
       "      <td>-1.110642</td>\n",
       "      <td>-1.615747</td>\n",
       "      <td>0.238861</td>\n",
       "      <td>-0.848383</td>\n",
       "      <td>1.133633</td>\n",
       "      <td>-0.566972</td>\n",
       "      <td>-1.610988</td>\n",
       "      <td>0.195993</td>\n",
       "      <td>1</td>\n",
       "    </tr>\n",
       "    <tr>\n",
       "      <th>3</th>\n",
       "      <td>-1.149383</td>\n",
       "      <td>0.140874</td>\n",
       "      <td>-0.295421</td>\n",
       "      <td>-0.395156</td>\n",
       "      <td>3.194258</td>\n",
       "      <td>0.463342</td>\n",
       "      <td>-2.599492</td>\n",
       "      <td>-1.882040</td>\n",
       "      <td>-0.051200</td>\n",
       "      <td>0.449180</td>\n",
       "      <td>...</td>\n",
       "      <td>-0.724311</td>\n",
       "      <td>0.135181</td>\n",
       "      <td>-1.351210</td>\n",
       "      <td>-0.346661</td>\n",
       "      <td>-0.685748</td>\n",
       "      <td>-0.353264</td>\n",
       "      <td>-0.616916</td>\n",
       "      <td>-0.687163</td>\n",
       "      <td>0.874235</td>\n",
       "      <td>1</td>\n",
       "    </tr>\n",
       "    <tr>\n",
       "      <th>4</th>\n",
       "      <td>-1.313791</td>\n",
       "      <td>-2.139680</td>\n",
       "      <td>1.716268</td>\n",
       "      <td>-1.300342</td>\n",
       "      <td>-0.158448</td>\n",
       "      <td>-0.429695</td>\n",
       "      <td>-1.956205</td>\n",
       "      <td>-1.272060</td>\n",
       "      <td>-0.368736</td>\n",
       "      <td>-0.949130</td>\n",
       "      <td>...</td>\n",
       "      <td>-0.479470</td>\n",
       "      <td>-1.863546</td>\n",
       "      <td>0.288208</td>\n",
       "      <td>-0.323261</td>\n",
       "      <td>-1.236211</td>\n",
       "      <td>3.398699</td>\n",
       "      <td>1.107271</td>\n",
       "      <td>-0.206596</td>\n",
       "      <td>-0.350448</td>\n",
       "      <td>1</td>\n",
       "    </tr>\n",
       "  </tbody>\n",
       "</table>\n",
       "<p>5 rows × 102 columns</p>\n",
       "</div>"
      ],
      "text/plain": [
       "        PC1       PC2       PC3       PC4       PC5       PC6       PC7  \\\n",
       "0 -0.720063  0.122605 -0.515013  0.513189  0.466034 -0.397343 -1.913108   \n",
       "1 -0.523368  1.852052 -1.034158  0.835044 -1.691395 -0.134223 -1.363387   \n",
       "2 -0.633494  0.561011  0.161267 -0.848280  1.377325 -0.314234 -1.229960   \n",
       "3 -1.149383  0.140874 -0.295421 -0.395156  3.194258  0.463342 -2.599492   \n",
       "4 -1.313791 -2.139680  1.716268 -1.300342 -0.158448 -0.429695 -1.956205   \n",
       "\n",
       "        PC8       PC9      PC10  ...      PC93      PC94      PC95      PC96  \\\n",
       "0 -0.910245  0.445693 -0.846670  ...  0.577155 -0.743289 -0.498545 -0.360832   \n",
       "1  2.460917 -2.327585  0.540751  ...  0.990080 -0.606732  0.998591  0.537201   \n",
       "2  3.040107 -1.968389  0.749645  ...  2.857813 -1.110642 -1.615747  0.238861   \n",
       "3 -1.882040 -0.051200  0.449180  ... -0.724311  0.135181 -1.351210 -0.346661   \n",
       "4 -1.272060 -0.368736 -0.949130  ... -0.479470 -1.863546  0.288208 -0.323261   \n",
       "\n",
       "       PC97      PC98      PC99     PC100     PC101  label  \n",
       "0  0.000424  0.300017 -0.473126 -0.445127  1.128234      1  \n",
       "1 -0.077965 -0.393844 -0.139949  0.022649 -0.566167      1  \n",
       "2 -0.848383  1.133633 -0.566972 -1.610988  0.195993      1  \n",
       "3 -0.685748 -0.353264 -0.616916 -0.687163  0.874235      1  \n",
       "4 -1.236211  3.398699  1.107271 -0.206596 -0.350448      1  \n",
       "\n",
       "[5 rows x 102 columns]"
      ]
     },
     "execution_count": 40,
     "metadata": {},
     "output_type": "execute_result"
    }
   ],
   "source": [
    "df_new = pd.DataFrame(l_pca_90,columns = cols)\n",
    "df_new['label']=New_df['STATUS']\n",
    "df_new.head()"
   ]
  },
  {
   "cell_type": "code",
   "execution_count": 41,
   "metadata": {
    "colab": {
     "base_uri": "https://localhost:8080/"
    },
    "id": "-urrm_1R-fWr",
    "outputId": "d18a43f0-2de7-43d3-c52e-70a21400c848"
   },
   "outputs": [
    {
     "data": {
      "text/plain": [
       "(2823, 102)"
      ]
     },
     "execution_count": 41,
     "metadata": {},
     "output_type": "execute_result"
    }
   ],
   "source": [
    "df_new.shape"
   ]
  },
  {
   "cell_type": "markdown",
   "metadata": {
    "id": "SJ-3jN_hu9Mz"
   },
   "source": [
    "# LDA ANALYSIS"
   ]
  },
  {
   "cell_type": "markdown",
   "metadata": {
    "id": "Z85A20xwiJDx"
   },
   "source": [
    "**1.Splitting the dataset into two parts (80% train and 20% test) using random state 42**"
   ]
  },
  {
   "cell_type": "code",
   "execution_count": 42,
   "metadata": {
    "colab": {
     "base_uri": "https://localhost:8080/"
    },
    "id": "KN_AzH07udTT",
    "outputId": "9a0807bf-43fa-490a-80a1-b49337d72237"
   },
   "outputs": [
    {
     "name": "stdout",
     "output_type": "stream",
     "text": [
      "X_train_raw: (2258, 239)\n",
      "y_train: (2258,)\n",
      "X_test_raw: (565, 239)\n",
      "y_test: (565,)\n"
     ]
    }
   ],
   "source": [
    "y = df['STATUS']\n",
    "X_train_raw, X_test_raw, y_train, y_test = train_test_split(l, y, test_size = 0.2, random_state=42)\n",
    "\n",
    "# check the shape of the train and test sets\n",
    "print('X_train_raw:', X_train_raw.shape)\n",
    "print('y_train:', y_train.shape)\n",
    "print('X_test_raw:', X_test_raw.shape)\n",
    "print('y_test:', y_test.shape)"
   ]
  },
  {
   "cell_type": "markdown",
   "metadata": {
    "id": "uw1EQUwDic9J"
   },
   "source": [
    "**2.Training LDA setting n components = 1**"
   ]
  },
  {
   "cell_type": "code",
   "execution_count": 43,
   "metadata": {
    "id": "UPY5m58dv1Qw"
   },
   "outputs": [],
   "source": [
    "lda = LDA(n_components = 1)\n",
    "\n",
    "# fit and transform the LDA on train data using the 'fit_transform()' \n",
    "X_train_lda = lda.fit_transform(X_train_raw, y_train)\n",
    "\n",
    "# transform the test data \n",
    "X_test_lda = lda.transform(X_test_raw)"
   ]
  },
  {
   "cell_type": "code",
   "execution_count": 44,
   "metadata": {
    "colab": {
     "base_uri": "https://localhost:8080/"
    },
    "id": "o0KG-eC-w896",
    "outputId": "6d072517-cddd-46ba-bbcb-73b99c58f6da"
   },
   "outputs": [
    {
     "data": {
      "text/plain": [
       "((2258, 1), (565, 1))"
      ]
     },
     "execution_count": 44,
     "metadata": {},
     "output_type": "execute_result"
    }
   ],
   "source": [
    "X_train_lda.shape, X_test_lda.shape"
   ]
  },
  {
   "cell_type": "markdown",
   "metadata": {
    "id": "_CiuBetUiwiy"
   },
   "source": [
    "**3.Training RandomForest Model**"
   ]
  },
  {
   "cell_type": "code",
   "execution_count": 45,
   "metadata": {
    "id": "3NTH0piLxJzm"
   },
   "outputs": [],
   "source": [
    "def randomforest_model_run(X_train, X_test, y_train, y_test):\n",
    "    \n",
    "    # create a random forest classifier object\n",
    "    # pass the random state to obtain the reproducible results\n",
    "    rf_clf = RandomForestClassifier(random_state=42)\n",
    "    \n",
    "    # fit the random forest model on the train data\n",
    "    rf_clf.fit(X_train, y_train)\n",
    "    \n",
    "    # predict the output values for test set\n",
    "    y_pred = rf_clf.predict(X_test)\n",
    "    \n",
    "    # calculate accuracy for test set\n",
    "    test_acc = accuracy_score(y_test, y_pred)\n",
    "    \n",
    "    # return the test accuracy \n",
    "    return print('Test Accuracy:', test_acc)"
   ]
  },
  {
   "cell_type": "markdown",
   "metadata": {
    "id": "wJXPyHlQL_-R"
   },
   "source": [
    "**5.Applying random forest model on LDA**"
   ]
  },
  {
   "cell_type": "code",
   "execution_count": 46,
   "metadata": {
    "colab": {
     "base_uri": "https://localhost:8080/"
    },
    "id": "dRNxICakw-n5",
    "outputId": "6396341f-a131-4929-a1d2-8920615a2ce4"
   },
   "outputs": [
    {
     "name": "stdout",
     "output_type": "stream",
     "text": [
      "Test Accuracy: 0.9398230088495575\n",
      "Wall time: 340 ms\n"
     ]
    }
   ],
   "source": [
    "%%time\n",
    "randomforest_model_run(X_train_lda, X_test_lda, y_train, y_test)"
   ]
  },
  {
   "cell_type": "markdown",
   "metadata": {
    "id": "dFq56OYiL0Pb"
   },
   "source": [
    "**6.Applying randomforest model on main data**"
   ]
  },
  {
   "cell_type": "code",
   "execution_count": 47,
   "metadata": {
    "colab": {
     "base_uri": "https://localhost:8080/"
    },
    "id": "QFL4lqI6x3WI",
    "outputId": "9f4665b7-ff03-4054-9747-4a2576acda49"
   },
   "outputs": [
    {
     "name": "stdout",
     "output_type": "stream",
     "text": [
      "Test Accuracy: 1.0\n",
      "Wall time: 444 ms\n"
     ]
    }
   ],
   "source": [
    "%%time\n",
    "randomforest_model_run(X_train_raw, X_test_raw, y_train, y_test)"
   ]
  },
  {
   "cell_type": "code",
   "execution_count": 48,
   "metadata": {
    "colab": {
     "base_uri": "https://localhost:8080/"
    },
    "id": "R4xNA-N39z8z",
    "outputId": "95799727-f477-4bb5-ba73-f250bca9b566"
   },
   "outputs": [
    {
     "name": "stdout",
     "output_type": "stream",
     "text": [
      "X_train_pca90: (2258, 102)\n",
      "y_train: (2258,)\n",
      "X_test_pca90: (565, 102)\n",
      "y_test: (565,)\n"
     ]
    }
   ],
   "source": [
    "y = df['STATUS']\n",
    "X_train_pca2, X_test_pca2, y_train, y_test = train_test_split(df_new, y, test_size = 0.2, random_state=42)\n",
    "print('X_train_pca90:', X_train_pca2.shape)\n",
    "print('y_train:', y_train.shape)\n",
    "print('X_test_pca90:', X_test_pca2.shape)\n",
    "print('y_test:', y_test.shape)"
   ]
  },
  {
   "cell_type": "code",
   "execution_count": 49,
   "metadata": {
    "colab": {
     "base_uri": "https://localhost:8080/",
     "height": 206
    },
    "id": "04v0L8wv_Co0",
    "outputId": "b41df998-b70b-466f-ab6a-5c3e9861f6e8"
   },
   "outputs": [
    {
     "data": {
      "text/html": [
       "<div>\n",
       "<style scoped>\n",
       "    .dataframe tbody tr th:only-of-type {\n",
       "        vertical-align: middle;\n",
       "    }\n",
       "\n",
       "    .dataframe tbody tr th {\n",
       "        vertical-align: top;\n",
       "    }\n",
       "\n",
       "    .dataframe thead th {\n",
       "        text-align: right;\n",
       "    }\n",
       "</style>\n",
       "<table border=\"1\" class=\"dataframe\">\n",
       "  <thead>\n",
       "    <tr style=\"text-align: right;\">\n",
       "      <th></th>\n",
       "      <th>PC1</th>\n",
       "      <th>PC2</th>\n",
       "      <th>PC3</th>\n",
       "      <th>PC4</th>\n",
       "      <th>PC5</th>\n",
       "      <th>PC6</th>\n",
       "      <th>PC7</th>\n",
       "      <th>PC8</th>\n",
       "      <th>PC9</th>\n",
       "      <th>PC10</th>\n",
       "      <th>...</th>\n",
       "      <th>PC93</th>\n",
       "      <th>PC94</th>\n",
       "      <th>PC95</th>\n",
       "      <th>PC96</th>\n",
       "      <th>PC97</th>\n",
       "      <th>PC98</th>\n",
       "      <th>PC99</th>\n",
       "      <th>PC100</th>\n",
       "      <th>PC101</th>\n",
       "      <th>label</th>\n",
       "    </tr>\n",
       "  </thead>\n",
       "  <tbody>\n",
       "    <tr>\n",
       "      <th>0</th>\n",
       "      <td>-0.720063</td>\n",
       "      <td>0.122605</td>\n",
       "      <td>-0.515013</td>\n",
       "      <td>0.513189</td>\n",
       "      <td>0.466034</td>\n",
       "      <td>-0.397343</td>\n",
       "      <td>-1.913108</td>\n",
       "      <td>-0.910245</td>\n",
       "      <td>0.445693</td>\n",
       "      <td>-0.846670</td>\n",
       "      <td>...</td>\n",
       "      <td>0.577155</td>\n",
       "      <td>-0.743289</td>\n",
       "      <td>-0.498545</td>\n",
       "      <td>-0.360832</td>\n",
       "      <td>0.000424</td>\n",
       "      <td>0.300017</td>\n",
       "      <td>-0.473126</td>\n",
       "      <td>-0.445127</td>\n",
       "      <td>1.128234</td>\n",
       "      <td>1</td>\n",
       "    </tr>\n",
       "    <tr>\n",
       "      <th>1</th>\n",
       "      <td>-0.523368</td>\n",
       "      <td>1.852052</td>\n",
       "      <td>-1.034158</td>\n",
       "      <td>0.835044</td>\n",
       "      <td>-1.691395</td>\n",
       "      <td>-0.134223</td>\n",
       "      <td>-1.363387</td>\n",
       "      <td>2.460917</td>\n",
       "      <td>-2.327585</td>\n",
       "      <td>0.540751</td>\n",
       "      <td>...</td>\n",
       "      <td>0.990080</td>\n",
       "      <td>-0.606732</td>\n",
       "      <td>0.998591</td>\n",
       "      <td>0.537201</td>\n",
       "      <td>-0.077965</td>\n",
       "      <td>-0.393844</td>\n",
       "      <td>-0.139949</td>\n",
       "      <td>0.022649</td>\n",
       "      <td>-0.566167</td>\n",
       "      <td>1</td>\n",
       "    </tr>\n",
       "    <tr>\n",
       "      <th>2</th>\n",
       "      <td>-0.633494</td>\n",
       "      <td>0.561011</td>\n",
       "      <td>0.161267</td>\n",
       "      <td>-0.848280</td>\n",
       "      <td>1.377325</td>\n",
       "      <td>-0.314234</td>\n",
       "      <td>-1.229960</td>\n",
       "      <td>3.040107</td>\n",
       "      <td>-1.968389</td>\n",
       "      <td>0.749645</td>\n",
       "      <td>...</td>\n",
       "      <td>2.857813</td>\n",
       "      <td>-1.110642</td>\n",
       "      <td>-1.615747</td>\n",
       "      <td>0.238861</td>\n",
       "      <td>-0.848383</td>\n",
       "      <td>1.133633</td>\n",
       "      <td>-0.566972</td>\n",
       "      <td>-1.610988</td>\n",
       "      <td>0.195993</td>\n",
       "      <td>1</td>\n",
       "    </tr>\n",
       "    <tr>\n",
       "      <th>3</th>\n",
       "      <td>-1.149383</td>\n",
       "      <td>0.140874</td>\n",
       "      <td>-0.295421</td>\n",
       "      <td>-0.395156</td>\n",
       "      <td>3.194258</td>\n",
       "      <td>0.463342</td>\n",
       "      <td>-2.599492</td>\n",
       "      <td>-1.882040</td>\n",
       "      <td>-0.051200</td>\n",
       "      <td>0.449180</td>\n",
       "      <td>...</td>\n",
       "      <td>-0.724311</td>\n",
       "      <td>0.135181</td>\n",
       "      <td>-1.351210</td>\n",
       "      <td>-0.346661</td>\n",
       "      <td>-0.685748</td>\n",
       "      <td>-0.353264</td>\n",
       "      <td>-0.616916</td>\n",
       "      <td>-0.687163</td>\n",
       "      <td>0.874235</td>\n",
       "      <td>1</td>\n",
       "    </tr>\n",
       "    <tr>\n",
       "      <th>4</th>\n",
       "      <td>-1.313791</td>\n",
       "      <td>-2.139680</td>\n",
       "      <td>1.716268</td>\n",
       "      <td>-1.300342</td>\n",
       "      <td>-0.158448</td>\n",
       "      <td>-0.429695</td>\n",
       "      <td>-1.956205</td>\n",
       "      <td>-1.272060</td>\n",
       "      <td>-0.368736</td>\n",
       "      <td>-0.949130</td>\n",
       "      <td>...</td>\n",
       "      <td>-0.479470</td>\n",
       "      <td>-1.863546</td>\n",
       "      <td>0.288208</td>\n",
       "      <td>-0.323261</td>\n",
       "      <td>-1.236211</td>\n",
       "      <td>3.398699</td>\n",
       "      <td>1.107271</td>\n",
       "      <td>-0.206596</td>\n",
       "      <td>-0.350448</td>\n",
       "      <td>1</td>\n",
       "    </tr>\n",
       "  </tbody>\n",
       "</table>\n",
       "<p>5 rows × 102 columns</p>\n",
       "</div>"
      ],
      "text/plain": [
       "        PC1       PC2       PC3       PC4       PC5       PC6       PC7  \\\n",
       "0 -0.720063  0.122605 -0.515013  0.513189  0.466034 -0.397343 -1.913108   \n",
       "1 -0.523368  1.852052 -1.034158  0.835044 -1.691395 -0.134223 -1.363387   \n",
       "2 -0.633494  0.561011  0.161267 -0.848280  1.377325 -0.314234 -1.229960   \n",
       "3 -1.149383  0.140874 -0.295421 -0.395156  3.194258  0.463342 -2.599492   \n",
       "4 -1.313791 -2.139680  1.716268 -1.300342 -0.158448 -0.429695 -1.956205   \n",
       "\n",
       "        PC8       PC9      PC10  ...      PC93      PC94      PC95      PC96  \\\n",
       "0 -0.910245  0.445693 -0.846670  ...  0.577155 -0.743289 -0.498545 -0.360832   \n",
       "1  2.460917 -2.327585  0.540751  ...  0.990080 -0.606732  0.998591  0.537201   \n",
       "2  3.040107 -1.968389  0.749645  ...  2.857813 -1.110642 -1.615747  0.238861   \n",
       "3 -1.882040 -0.051200  0.449180  ... -0.724311  0.135181 -1.351210 -0.346661   \n",
       "4 -1.272060 -0.368736 -0.949130  ... -0.479470 -1.863546  0.288208 -0.323261   \n",
       "\n",
       "       PC97      PC98      PC99     PC100     PC101  label  \n",
       "0  0.000424  0.300017 -0.473126 -0.445127  1.128234      1  \n",
       "1 -0.077965 -0.393844 -0.139949  0.022649 -0.566167      1  \n",
       "2 -0.848383  1.133633 -0.566972 -1.610988  0.195993      1  \n",
       "3 -0.685748 -0.353264 -0.616916 -0.687163  0.874235      1  \n",
       "4 -1.236211  3.398699  1.107271 -0.206596 -0.350448      1  \n",
       "\n",
       "[5 rows x 102 columns]"
      ]
     },
     "execution_count": 49,
     "metadata": {},
     "output_type": "execute_result"
    }
   ],
   "source": [
    "df_new.head()"
   ]
  },
  {
   "cell_type": "code",
   "execution_count": 50,
   "metadata": {
    "colab": {
     "base_uri": "https://localhost:8080/"
    },
    "id": "eJyOvYBO-EnT",
    "outputId": "ca4c5859-d551-4266-f395-dd1f1a35281e"
   },
   "outputs": [
    {
     "name": "stdout",
     "output_type": "stream",
     "text": [
      "Test Accuracy: 1.0\n",
      "Wall time: 1.33 s\n"
     ]
    }
   ],
   "source": [
    "%%time\n",
    "randomforest_model_run(X_train_pca2,X_test_pca2, y_train, y_test)"
   ]
  }
 ],
 "metadata": {
  "colab": {
   "provenance": []
  },
  "kernelspec": {
   "display_name": "Python 3 (ipykernel)",
   "language": "python",
   "name": "python3"
  },
  "language_info": {
   "codemirror_mode": {
    "name": "ipython",
    "version": 3
   },
   "file_extension": ".py",
   "mimetype": "text/x-python",
   "name": "python",
   "nbconvert_exporter": "python",
   "pygments_lexer": "ipython3",
   "version": "3.9.7"
  }
 },
 "nbformat": 4,
 "nbformat_minor": 1
}
